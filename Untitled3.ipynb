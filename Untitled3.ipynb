{
  "nbformat": 4,
  "nbformat_minor": 0,
  "metadata": {
    "colab": {
      "provenance": [],
      "authorship_tag": "ABX9TyN2oR4uh73kxUT0Q3milXNx",
      "include_colab_link": true
    },
    "kernelspec": {
      "name": "python3",
      "display_name": "Python 3"
    },
    "language_info": {
      "name": "python"
    }
  },
  "cells": [
    {
      "cell_type": "markdown",
      "metadata": {
        "id": "view-in-github",
        "colab_type": "text"
      },
      "source": [
        "<a href=\"https://colab.research.google.com/github/Rubi24-S/rubishabong/blob/main/Untitled3.ipynb\" target=\"_parent\"><img src=\"https://colab.research.google.com/assets/colab-badge.svg\" alt=\"Open In Colab\"/></a>"
      ]
    },
    {
      "cell_type": "code",
      "source": [
        "import zipfile\n",
        "import os\n",
        "\n",
        "# Define the path to the ZIP file and the folder where you want to extract it\n",
        "zip_file_path = '/content/drive/MyDrive/Crop_disease_detection_project/Dataset/archive.zip'\n",
        "extract_folder_path = '/content/drive/MyDrive/Crop_disease_detection_project/Dataset'\n",
        "\n",
        "# Create the extraction folder if it doesn't exist\n",
        "os.makedirs(extract_folder_path, exist_ok=True)\n",
        "\n",
        "# Extract the ZIP file\n",
        "with zipfile.ZipFile(zip_file_path, 'r') as zip_ref:\n",
        "    zip_ref.extractall(extract_folder_path)\n",
        "\n",
        "print(\"Data extracted successfully!\")"
      ],
      "metadata": {
        "colab": {
          "base_uri": "https://localhost:8080/"
        },
        "id": "H6jsGBbna4-V",
        "outputId": "f5963512-9633-40af-e679-04ad6c2cdc0f"
      },
      "execution_count": 16,
      "outputs": [
        {
          "output_type": "stream",
          "name": "stdout",
          "text": [
            "Data extracted successfully!\n"
          ]
        }
      ]
    },
    {
      "cell_type": "code",
      "source": [
        "extracted_files = os.listdir(extract_folder_path)\n",
        "print(\"Extraxted files/folders:\", extracted_files)"
      ],
      "metadata": {
        "colab": {
          "base_uri": "https://localhost:8080/"
        },
        "id": "NXzzplRSb1-r",
        "outputId": "0b6ee51e-f5b7-44a0-e05d-6951cac1ec2d"
      },
      "execution_count": 17,
      "outputs": [
        {
          "output_type": "stream",
          "name": "stdout",
          "text": [
            "Extraxted files/folders: ['train', 'test', 'archive.zip', 'PlantVillage', 'plantvillage']\n"
          ]
        }
      ]
    },
    {
      "cell_type": "code",
      "source": [
        "#Training Data\n",
        "#train_path = '/content/drive/MyDrive/Crop_disease_detection_project/Dataset'"
      ],
      "metadata": {
        "id": "l46J-lUleiWI"
      },
      "execution_count": null,
      "outputs": []
    }
  ]
}